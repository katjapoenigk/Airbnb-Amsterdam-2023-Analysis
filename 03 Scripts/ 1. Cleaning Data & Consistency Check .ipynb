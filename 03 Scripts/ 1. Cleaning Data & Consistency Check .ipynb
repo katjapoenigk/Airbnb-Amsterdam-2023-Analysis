{
 "cells": [
  {
   "cell_type": "markdown",
   "id": "fcd6f4ea",
   "metadata": {},
   "source": [
    "# Data cleaning and consistency check \n",
    "\n",
    "### Importing libraries and data sets\n",
    "\n",
    "### Merge listing with listing_details\n",
    "\n",
    "### Data consistency check, check for duplicates, missing values \n",
    "\n",
    "### Change Datatypes \n",
    "\n",
    "### Export new dataframe as 2023_Amsterdam_Airbnb_Data\n"
   ]
  },
  {
   "cell_type": "markdown",
   "id": "5a4e8d61",
   "metadata": {},
   "source": [
    "## Dataset info\n",
    "\n",
    "#### This dataset was taken form 'Inside Airbnb',  Amsterdam, The Netherlands, 12 Decemer 2023. \n",
    "#### The dataset includes a geographical component such as coordination points (longitude/latitude) and categorical/ numeric values. \n",
    "#### The listings file is an overview file that 'InsideAirbnb' labels as ''good for visualizations''. The unique identifier in the dataset is the 'listing id'. Overall, there were 8,739 Airbnb listings in Amsterdam on Dec, 12th 2023."
   ]
  },
  {
   "cell_type": "markdown",
   "id": "b8fd26c6",
   "metadata": {},
   "source": [
    "## Importing libraries and data sets"
   ]
  },
  {
   "cell_type": "code",
   "execution_count": 243,
   "id": "6d41d6fe",
   "metadata": {},
   "outputs": [],
   "source": [
    "#Import Libraries\n",
    "import pandas as pd\n",
    "import numpy as np\n",
    "import os\n",
    "import matplotlib.pyplot as plt\n",
    "import seaborn as sns\n",
    "import scipy"
   ]
  },
  {
   "cell_type": "code",
   "execution_count": 244,
   "id": "76d3b6b8",
   "metadata": {},
   "outputs": [],
   "source": [
    "#creating pathway for dataframes\n",
    "path = os.path.join(r'/Users/katja/Documents/Airbnb/02 Data')"
   ]
  },
  {
   "cell_type": "code",
   "execution_count": 245,
   "id": "c12b23d0",
   "metadata": {},
   "outputs": [],
   "source": [
    "#import listings\n",
    "df_list = pd.read_csv(os.path.join(path, 'Original Data','listings.csv'), index_col = False)"
   ]
  },
  {
   "cell_type": "code",
   "execution_count": 246,
   "id": "36ac0a6f",
   "metadata": {},
   "outputs": [],
   "source": [
    "#import listings_details\n",
    "df_list_detail = pd.read_csv(os.path.join(path, 'Original Data','listings_details.csv'), index_col = False)"
   ]
  },
  {
   "cell_type": "code",
   "execution_count": 247,
   "id": "0c24b443",
   "metadata": {},
   "outputs": [],
   "source": [
    "#import calendar\n",
    "df_cal = pd.read_csv(os.path.join(path, 'Original Data','calendar.csv'), index_col = False)"
   ]
  },
  {
   "cell_type": "code",
   "execution_count": 248,
   "id": "eca88274",
   "metadata": {},
   "outputs": [],
   "source": [
    "#loading garbage collector\n",
    "import gc"
   ]
  },
  {
   "cell_type": "code",
   "execution_count": 249,
   "id": "78288aea",
   "metadata": {},
   "outputs": [
    {
     "name": "stdout",
     "output_type": "stream",
     "text": [
      "<class 'pandas.core.frame.DataFrame'>\n",
      "RangeIndex: 8739 entries, 0 to 8738\n",
      "Data columns (total 18 columns):\n",
      " #   Column                          Non-Null Count  Dtype  \n",
      "---  ------                          --------------  -----  \n",
      " 0   id                              8739 non-null   int64  \n",
      " 1   name                            8739 non-null   object \n",
      " 2   host_id                         8739 non-null   int64  \n",
      " 3   host_name                       8739 non-null   object \n",
      " 4   neighbourhood_group             0 non-null      float64\n",
      " 5   neighbourhood                   8739 non-null   object \n",
      " 6   latitude                        8739 non-null   float64\n",
      " 7   longitude                       8739 non-null   float64\n",
      " 8   room_type                       8739 non-null   object \n",
      " 9   price                           8443 non-null   float64\n",
      " 10  minimum_nights                  8739 non-null   int64  \n",
      " 11  number_of_reviews               8739 non-null   int64  \n",
      " 12  last_review                     7817 non-null   object \n",
      " 13  reviews_per_month               7817 non-null   float64\n",
      " 14  calculated_host_listings_count  8739 non-null   int64  \n",
      " 15  availability_365                8739 non-null   int64  \n",
      " 16  number_of_reviews_ltm           8739 non-null   int64  \n",
      " 17  license                         8661 non-null   object \n",
      "dtypes: float64(5), int64(7), object(6)\n",
      "memory usage: 1.2+ MB\n"
     ]
    }
   ],
   "source": [
    "#checking types\n",
    "df_list.info()"
   ]
  },
  {
   "cell_type": "code",
   "execution_count": 250,
   "id": "7dfec682",
   "metadata": {},
   "outputs": [
    {
     "name": "stdout",
     "output_type": "stream",
     "text": [
      "<class 'pandas.core.frame.DataFrame'>\n",
      "RangeIndex: 8739 entries, 0 to 8738\n",
      "Data columns (total 75 columns):\n",
      " #   Column                                        Non-Null Count  Dtype  \n",
      "---  ------                                        --------------  -----  \n",
      " 0   id                                            8739 non-null   int64  \n",
      " 1   listing_url                                   8739 non-null   object \n",
      " 2   scrape_id                                     8739 non-null   int64  \n",
      " 3   last_scraped                                  8739 non-null   object \n",
      " 4   source                                        8739 non-null   object \n",
      " 5   name                                          8739 non-null   object \n",
      " 6   description                                   0 non-null      float64\n",
      " 7   neighborhood_overview                         5346 non-null   object \n",
      " 8   picture_url                                   8739 non-null   object \n",
      " 9   host_id                                       8739 non-null   int64  \n",
      " 10  host_url                                      8739 non-null   object \n",
      " 11  host_name                                     8739 non-null   object \n",
      " 12  host_since                                    8739 non-null   object \n",
      " 13  host_location                                 7778 non-null   object \n",
      " 14  host_about                                    4707 non-null   object \n",
      " 15  host_response_time                            5679 non-null   object \n",
      " 16  host_response_rate                            5679 non-null   object \n",
      " 17  host_acceptance_rate                          7377 non-null   object \n",
      " 18  host_is_superhost                             8687 non-null   object \n",
      " 19  host_thumbnail_url                            8739 non-null   object \n",
      " 20  host_picture_url                              8739 non-null   object \n",
      " 21  host_neighbourhood                            2953 non-null   object \n",
      " 22  host_listings_count                           8739 non-null   int64  \n",
      " 23  host_total_listings_count                     8739 non-null   int64  \n",
      " 24  host_verifications                            8739 non-null   object \n",
      " 25  host_has_profile_pic                          8739 non-null   object \n",
      " 26  host_identity_verified                        8739 non-null   object \n",
      " 27  neighbourhood                                 5346 non-null   object \n",
      " 28  neighbourhood_cleansed                        8739 non-null   object \n",
      " 29  neighbourhood_group_cleansed                  0 non-null      float64\n",
      " 30  latitude                                      8739 non-null   float64\n",
      " 31  longitude                                     8739 non-null   float64\n",
      " 32  property_type                                 8739 non-null   object \n",
      " 33  room_type                                     8739 non-null   object \n",
      " 34  accommodates                                  8739 non-null   int64  \n",
      " 35  bathrooms                                     0 non-null      float64\n",
      " 36  bathrooms_text                                8730 non-null   object \n",
      " 37  bedrooms                                      0 non-null      float64\n",
      " 38  beds                                          8665 non-null   float64\n",
      " 39  amenities                                     8739 non-null   object \n",
      " 40  price                                         8443 non-null   object \n",
      " 41  minimum_nights                                8739 non-null   int64  \n",
      " 42  maximum_nights                                8739 non-null   int64  \n",
      " 43  minimum_minimum_nights                        8739 non-null   int64  \n",
      " 44  maximum_minimum_nights                        8739 non-null   int64  \n",
      " 45  minimum_maximum_nights                        8739 non-null   int64  \n",
      " 46  maximum_maximum_nights                        8739 non-null   int64  \n",
      " 47  minimum_nights_avg_ntm                        8739 non-null   float64\n",
      " 48  maximum_nights_avg_ntm                        8739 non-null   float64\n",
      " 49  calendar_updated                              0 non-null      float64\n",
      " 50  has_availability                              8443 non-null   object \n",
      " 51  availability_30                               8739 non-null   int64  \n",
      " 52  availability_60                               8739 non-null   int64  \n",
      " 53  availability_90                               8739 non-null   int64  \n",
      " 54  availability_365                              8739 non-null   int64  \n",
      " 55  calendar_last_scraped                         8739 non-null   object \n",
      " 56  number_of_reviews                             8739 non-null   int64  \n",
      " 57  number_of_reviews_ltm                         8739 non-null   int64  \n",
      " 58  number_of_reviews_l30d                        8739 non-null   int64  \n",
      " 59  first_review                                  7817 non-null   object \n",
      " 60  last_review                                   7817 non-null   object \n",
      " 61  review_scores_rating                          7825 non-null   float64\n",
      " 62  review_scores_accuracy                        7825 non-null   float64\n",
      " 63  review_scores_cleanliness                     7824 non-null   float64\n",
      " 64  review_scores_checkin                         7825 non-null   float64\n",
      " 65  review_scores_communication                   7825 non-null   float64\n",
      " 66  review_scores_location                        7824 non-null   float64\n",
      " 67  review_scores_value                           7824 non-null   float64\n",
      " 68  license                                       8661 non-null   object \n",
      " 69  instant_bookable                              8739 non-null   object \n",
      " 70  calculated_host_listings_count                8739 non-null   int64  \n",
      " 71  calculated_host_listings_count_entire_homes   8739 non-null   int64  \n",
      " 72  calculated_host_listings_count_private_rooms  8739 non-null   int64  \n",
      " 73  calculated_host_listings_count_shared_rooms   8739 non-null   int64  \n",
      " 74  reviews_per_month                             7817 non-null   float64\n",
      "dtypes: float64(18), int64(23), object(34)\n",
      "memory usage: 5.0+ MB\n"
     ]
    }
   ],
   "source": [
    "#checking types\n",
    "df_list_detail.info()"
   ]
  },
  {
   "cell_type": "markdown",
   "id": "f0382332",
   "metadata": {},
   "source": [
    "#### The listing_details file contains a total of 74 variables. As I am not going to use all of them, did merge the variables that are needed for this research."
   ]
  },
  {
   "cell_type": "code",
   "execution_count": 251,
   "id": "9ef119a4",
   "metadata": {},
   "outputs": [
    {
     "name": "stdout",
     "output_type": "stream",
     "text": [
      "(8739, 18)\n"
     ]
    }
   ],
   "source": [
    "#checking overall shape\n",
    "print(df_list.shape)"
   ]
  },
  {
   "cell_type": "code",
   "execution_count": 252,
   "id": "91fef722",
   "metadata": {},
   "outputs": [
    {
     "data": {
      "text/html": [
       "<div>\n",
       "<style scoped>\n",
       "    .dataframe tbody tr th:only-of-type {\n",
       "        vertical-align: middle;\n",
       "    }\n",
       "\n",
       "    .dataframe tbody tr th {\n",
       "        vertical-align: top;\n",
       "    }\n",
       "\n",
       "    .dataframe thead th {\n",
       "        text-align: right;\n",
       "    }\n",
       "</style>\n",
       "<table border=\"1\" class=\"dataframe\">\n",
       "  <thead>\n",
       "    <tr style=\"text-align: right;\">\n",
       "      <th></th>\n",
       "      <th>listing_id</th>\n",
       "      <th>date</th>\n",
       "      <th>available</th>\n",
       "      <th>price</th>\n",
       "      <th>adjusted_price</th>\n",
       "      <th>minimum_nights</th>\n",
       "      <th>maximum_nights</th>\n",
       "    </tr>\n",
       "  </thead>\n",
       "  <tbody>\n",
       "    <tr>\n",
       "      <th>0</th>\n",
       "      <td>2818</td>\n",
       "      <td>2023-12-12</td>\n",
       "      <td>f</td>\n",
       "      <td>$59.00</td>\n",
       "      <td>NaN</td>\n",
       "      <td>3</td>\n",
       "      <td>1125</td>\n",
       "    </tr>\n",
       "    <tr>\n",
       "      <th>1</th>\n",
       "      <td>2818</td>\n",
       "      <td>2023-12-13</td>\n",
       "      <td>f</td>\n",
       "      <td>$59.00</td>\n",
       "      <td>NaN</td>\n",
       "      <td>3</td>\n",
       "      <td>1125</td>\n",
       "    </tr>\n",
       "    <tr>\n",
       "      <th>2</th>\n",
       "      <td>2818</td>\n",
       "      <td>2023-12-14</td>\n",
       "      <td>f</td>\n",
       "      <td>$59.00</td>\n",
       "      <td>NaN</td>\n",
       "      <td>3</td>\n",
       "      <td>1125</td>\n",
       "    </tr>\n",
       "    <tr>\n",
       "      <th>3</th>\n",
       "      <td>2818</td>\n",
       "      <td>2023-12-15</td>\n",
       "      <td>f</td>\n",
       "      <td>$59.00</td>\n",
       "      <td>NaN</td>\n",
       "      <td>3</td>\n",
       "      <td>1125</td>\n",
       "    </tr>\n",
       "    <tr>\n",
       "      <th>4</th>\n",
       "      <td>2818</td>\n",
       "      <td>2023-12-16</td>\n",
       "      <td>f</td>\n",
       "      <td>$59.00</td>\n",
       "      <td>NaN</td>\n",
       "      <td>3</td>\n",
       "      <td>1125</td>\n",
       "    </tr>\n",
       "  </tbody>\n",
       "</table>\n",
       "</div>"
      ],
      "text/plain": [
       "   listing_id        date available   price  adjusted_price  minimum_nights  \\\n",
       "0        2818  2023-12-12         f  $59.00             NaN               3   \n",
       "1        2818  2023-12-13         f  $59.00             NaN               3   \n",
       "2        2818  2023-12-14         f  $59.00             NaN               3   \n",
       "3        2818  2023-12-15         f  $59.00             NaN               3   \n",
       "4        2818  2023-12-16         f  $59.00             NaN               3   \n",
       "\n",
       "   maximum_nights  \n",
       "0            1125  \n",
       "1            1125  \n",
       "2            1125  \n",
       "3            1125  \n",
       "4            1125  "
      ]
     },
     "execution_count": 252,
     "metadata": {},
     "output_type": "execute_result"
    }
   ],
   "source": [
    "#checking types\n",
    "df_cal.head()"
   ]
  },
  {
   "cell_type": "code",
   "execution_count": 253,
   "id": "1db5981b",
   "metadata": {},
   "outputs": [
    {
     "name": "stdout",
     "output_type": "stream",
     "text": [
      "<class 'pandas.core.frame.DataFrame'>\n",
      "RangeIndex: 8739 entries, 0 to 8738\n",
      "Data columns (total 30 columns):\n",
      " #   Column                          Non-Null Count  Dtype  \n",
      "---  ------                          --------------  -----  \n",
      " 0   id                              8739 non-null   int64  \n",
      " 1   name                            8739 non-null   object \n",
      " 2   host_id                         8739 non-null   int64  \n",
      " 3   host_name                       8739 non-null   object \n",
      " 4   neighbourhood_group             0 non-null      float64\n",
      " 5   neighbourhood                   8739 non-null   object \n",
      " 6   latitude                        8739 non-null   float64\n",
      " 7   longitude                       8739 non-null   float64\n",
      " 8   room_type                       8739 non-null   object \n",
      " 9   price                           8443 non-null   float64\n",
      " 10  minimum_nights                  8739 non-null   int64  \n",
      " 11  number_of_reviews               8739 non-null   int64  \n",
      " 12  last_review                     7817 non-null   object \n",
      " 13  reviews_per_month               7817 non-null   float64\n",
      " 14  calculated_host_listings_count  8739 non-null   int64  \n",
      " 15  availability_365                8739 non-null   int64  \n",
      " 16  number_of_reviews_ltm           8739 non-null   int64  \n",
      " 17  license                         8661 non-null   object \n",
      " 18  host_response_rate              5679 non-null   object \n",
      " 19  host_since                      8739 non-null   object \n",
      " 20  host_response_time              5679 non-null   object \n",
      " 21  property_type                   8739 non-null   object \n",
      " 22  accommodates                    8739 non-null   int64  \n",
      " 23  first_review                    7817 non-null   object \n",
      " 24  review_scores_location          7824 non-null   float64\n",
      " 25  review_scores_communication     7825 non-null   float64\n",
      " 26  review_scores_rating            7825 non-null   float64\n",
      " 27  maximum_nights                  8739 non-null   int64  \n",
      " 28  host_is_superhost               8687 non-null   object \n",
      " 29  host_has_profile_pic            8739 non-null   object \n",
      "dtypes: float64(8), int64(9), object(13)\n",
      "memory usage: 2.0+ MB\n"
     ]
    }
   ],
   "source": [
    "target_columns = [\"id\", \"host_response_rate\",\"host_since\",\"host_response_time\", \"property_type\", \"accommodates\", \n",
    "                  \"first_review\",\n",
    "                 \"review_scores_location\",\n",
    "                  \"review_scores_communication\",\"review_scores_rating\", \n",
    "                  \"maximum_nights\", \"host_is_superhost\", \n",
    "                  \"host_has_profile_pic\"]\n",
    "df_list_merge = pd.merge(df_list, df_list_detail[target_columns], on='id', how='left')\n",
    "df_list_merge.info()"
   ]
  },
  {
   "cell_type": "code",
   "execution_count": 254,
   "id": "1ee2dcc8",
   "metadata": {},
   "outputs": [
    {
     "data": {
      "text/html": [
       "<div>\n",
       "<style scoped>\n",
       "    .dataframe tbody tr th:only-of-type {\n",
       "        vertical-align: middle;\n",
       "    }\n",
       "\n",
       "    .dataframe tbody tr th {\n",
       "        vertical-align: top;\n",
       "    }\n",
       "\n",
       "    .dataframe thead th {\n",
       "        text-align: right;\n",
       "    }\n",
       "</style>\n",
       "<table border=\"1\" class=\"dataframe\">\n",
       "  <thead>\n",
       "    <tr style=\"text-align: right;\">\n",
       "      <th></th>\n",
       "      <th>id</th>\n",
       "      <th>name</th>\n",
       "      <th>host_id</th>\n",
       "      <th>neighbourhood</th>\n",
       "      <th>latitude</th>\n",
       "      <th>longitude</th>\n",
       "      <th>room_type</th>\n",
       "      <th>price</th>\n",
       "      <th>minimum_nights</th>\n",
       "      <th>number_of_reviews</th>\n",
       "      <th>...</th>\n",
       "      <th>host_response_time</th>\n",
       "      <th>property_type</th>\n",
       "      <th>accommodates</th>\n",
       "      <th>first_review</th>\n",
       "      <th>review_scores_location</th>\n",
       "      <th>review_scores_communication</th>\n",
       "      <th>review_scores_rating</th>\n",
       "      <th>maximum_nights</th>\n",
       "      <th>host_is_superhost</th>\n",
       "      <th>host_has_profile_pic</th>\n",
       "    </tr>\n",
       "  </thead>\n",
       "  <tbody>\n",
       "    <tr>\n",
       "      <th>0</th>\n",
       "      <td>2818</td>\n",
       "      <td>Condo in Amsterdam · ★4.90 · 1 bedroom · 2 bed...</td>\n",
       "      <td>3159</td>\n",
       "      <td>Oostelijk Havengebied - Indische Buurt</td>\n",
       "      <td>52.36435</td>\n",
       "      <td>4.94358</td>\n",
       "      <td>Private room</td>\n",
       "      <td>69.0</td>\n",
       "      <td>3</td>\n",
       "      <td>365</td>\n",
       "      <td>...</td>\n",
       "      <td>within an hour</td>\n",
       "      <td>Private room in condo</td>\n",
       "      <td>2</td>\n",
       "      <td>2009-03-30</td>\n",
       "      <td>4.71</td>\n",
       "      <td>4.98</td>\n",
       "      <td>4.90</td>\n",
       "      <td>28</td>\n",
       "      <td>t</td>\n",
       "      <td>t</td>\n",
       "    </tr>\n",
       "    <tr>\n",
       "      <th>1</th>\n",
       "      <td>20168</td>\n",
       "      <td>Townhouse in Amsterdam · ★4.44 · 1 bedroom · 1...</td>\n",
       "      <td>59484</td>\n",
       "      <td>Centrum-Oost</td>\n",
       "      <td>52.36407</td>\n",
       "      <td>4.89393</td>\n",
       "      <td>Private room</td>\n",
       "      <td>117.0</td>\n",
       "      <td>1</td>\n",
       "      <td>366</td>\n",
       "      <td>...</td>\n",
       "      <td>within an hour</td>\n",
       "      <td>Private room in townhouse</td>\n",
       "      <td>2</td>\n",
       "      <td>2010-03-02</td>\n",
       "      <td>4.88</td>\n",
       "      <td>4.61</td>\n",
       "      <td>4.44</td>\n",
       "      <td>365</td>\n",
       "      <td>f</td>\n",
       "      <td>t</td>\n",
       "    </tr>\n",
       "    <tr>\n",
       "      <th>2</th>\n",
       "      <td>27886</td>\n",
       "      <td>Houseboat in Amsterdam · ★4.93 · 1 bedroom · 1...</td>\n",
       "      <td>97647</td>\n",
       "      <td>Centrum-West</td>\n",
       "      <td>52.38761</td>\n",
       "      <td>4.89188</td>\n",
       "      <td>Private room</td>\n",
       "      <td>155.0</td>\n",
       "      <td>3</td>\n",
       "      <td>267</td>\n",
       "      <td>...</td>\n",
       "      <td>within an hour</td>\n",
       "      <td>Private room in houseboat</td>\n",
       "      <td>2</td>\n",
       "      <td>2012-01-09</td>\n",
       "      <td>4.89</td>\n",
       "      <td>4.92</td>\n",
       "      <td>4.93</td>\n",
       "      <td>356</td>\n",
       "      <td>t</td>\n",
       "      <td>t</td>\n",
       "    </tr>\n",
       "    <tr>\n",
       "      <th>3</th>\n",
       "      <td>28871</td>\n",
       "      <td>Rental unit in Amsterdam · ★4.87 · 1 bedroom ·...</td>\n",
       "      <td>124245</td>\n",
       "      <td>Centrum-West</td>\n",
       "      <td>52.36775</td>\n",
       "      <td>4.89092</td>\n",
       "      <td>Private room</td>\n",
       "      <td>79.0</td>\n",
       "      <td>2</td>\n",
       "      <td>569</td>\n",
       "      <td>...</td>\n",
       "      <td>within an hour</td>\n",
       "      <td>Private room in rental unit</td>\n",
       "      <td>2</td>\n",
       "      <td>2010-08-22</td>\n",
       "      <td>4.94</td>\n",
       "      <td>4.93</td>\n",
       "      <td>4.87</td>\n",
       "      <td>730</td>\n",
       "      <td>t</td>\n",
       "      <td>t</td>\n",
       "    </tr>\n",
       "    <tr>\n",
       "      <th>4</th>\n",
       "      <td>29051</td>\n",
       "      <td>Rental unit in Amsterdam · ★4.81 · 1 bedroom ·...</td>\n",
       "      <td>124245</td>\n",
       "      <td>Centrum-Oost</td>\n",
       "      <td>52.36584</td>\n",
       "      <td>4.89111</td>\n",
       "      <td>Private room</td>\n",
       "      <td>59.0</td>\n",
       "      <td>2</td>\n",
       "      <td>698</td>\n",
       "      <td>...</td>\n",
       "      <td>within an hour</td>\n",
       "      <td>Private room in rental unit</td>\n",
       "      <td>2</td>\n",
       "      <td>2011-03-16</td>\n",
       "      <td>4.88</td>\n",
       "      <td>4.92</td>\n",
       "      <td>4.81</td>\n",
       "      <td>730</td>\n",
       "      <td>t</td>\n",
       "      <td>t</td>\n",
       "    </tr>\n",
       "  </tbody>\n",
       "</table>\n",
       "<p>5 rows × 27 columns</p>\n",
       "</div>"
      ],
      "text/plain": [
       "      id                                               name  host_id  \\\n",
       "0   2818  Condo in Amsterdam · ★4.90 · 1 bedroom · 2 bed...     3159   \n",
       "1  20168  Townhouse in Amsterdam · ★4.44 · 1 bedroom · 1...    59484   \n",
       "2  27886  Houseboat in Amsterdam · ★4.93 · 1 bedroom · 1...    97647   \n",
       "3  28871  Rental unit in Amsterdam · ★4.87 · 1 bedroom ·...   124245   \n",
       "4  29051  Rental unit in Amsterdam · ★4.81 · 1 bedroom ·...   124245   \n",
       "\n",
       "                            neighbourhood  latitude  longitude     room_type  \\\n",
       "0  Oostelijk Havengebied - Indische Buurt  52.36435    4.94358  Private room   \n",
       "1                            Centrum-Oost  52.36407    4.89393  Private room   \n",
       "2                            Centrum-West  52.38761    4.89188  Private room   \n",
       "3                            Centrum-West  52.36775    4.89092  Private room   \n",
       "4                            Centrum-Oost  52.36584    4.89111  Private room   \n",
       "\n",
       "   price  minimum_nights  number_of_reviews  ... host_response_time  \\\n",
       "0   69.0               3                365  ...     within an hour   \n",
       "1  117.0               1                366  ...     within an hour   \n",
       "2  155.0               3                267  ...     within an hour   \n",
       "3   79.0               2                569  ...     within an hour   \n",
       "4   59.0               2                698  ...     within an hour   \n",
       "\n",
       "                 property_type  accommodates  first_review  \\\n",
       "0        Private room in condo             2    2009-03-30   \n",
       "1    Private room in townhouse             2    2010-03-02   \n",
       "2    Private room in houseboat             2    2012-01-09   \n",
       "3  Private room in rental unit             2    2010-08-22   \n",
       "4  Private room in rental unit             2    2011-03-16   \n",
       "\n",
       "   review_scores_location  review_scores_communication review_scores_rating  \\\n",
       "0                    4.71                         4.98                 4.90   \n",
       "1                    4.88                         4.61                 4.44   \n",
       "2                    4.89                         4.92                 4.93   \n",
       "3                    4.94                         4.93                 4.87   \n",
       "4                    4.88                         4.92                 4.81   \n",
       "\n",
       "  maximum_nights host_is_superhost  host_has_profile_pic  \n",
       "0             28                 t                     t  \n",
       "1            365                 f                     t  \n",
       "2            356                 t                     t  \n",
       "3            730                 t                     t  \n",
       "4            730                 t                     t  \n",
       "\n",
       "[5 rows x 27 columns]"
      ]
     },
     "execution_count": 254,
     "metadata": {},
     "output_type": "execute_result"
    }
   ],
   "source": [
    "# Removing neighbourhood_group as it not relevant as it contains 0 content. \n",
    "\n",
    "df_list_merge = df_list_merge.drop(columns=['neighbourhood_group'])\n",
    "df_list_merge = df_list_merge.drop(columns=['license'])\n",
    "df_list_merge = df_list_merge.drop(columns=['host_name'])\n",
    "df_list_merge['host_response_rate'] = pd.to_numeric(df_list_merge['host_response_rate'].str.strip('%'))\n",
    "\n",
    "df_list_merge.head()"
   ]
  },
  {
   "cell_type": "code",
   "execution_count": 255,
   "id": "19d1eb15",
   "metadata": {},
   "outputs": [
    {
     "data": {
      "text/html": [
       "<div>\n",
       "<style scoped>\n",
       "    .dataframe tbody tr th:only-of-type {\n",
       "        vertical-align: middle;\n",
       "    }\n",
       "\n",
       "    .dataframe tbody tr th {\n",
       "        vertical-align: top;\n",
       "    }\n",
       "\n",
       "    .dataframe thead th {\n",
       "        text-align: right;\n",
       "    }\n",
       "</style>\n",
       "<table border=\"1\" class=\"dataframe\">\n",
       "  <thead>\n",
       "    <tr style=\"text-align: right;\">\n",
       "      <th></th>\n",
       "      <th>id</th>\n",
       "      <th>host_id</th>\n",
       "      <th>latitude</th>\n",
       "      <th>longitude</th>\n",
       "      <th>price</th>\n",
       "      <th>minimum_nights</th>\n",
       "      <th>number_of_reviews</th>\n",
       "      <th>reviews_per_month</th>\n",
       "      <th>calculated_host_listings_count</th>\n",
       "      <th>availability_365</th>\n",
       "      <th>number_of_reviews_ltm</th>\n",
       "      <th>host_response_rate</th>\n",
       "      <th>accommodates</th>\n",
       "      <th>review_scores_location</th>\n",
       "      <th>review_scores_communication</th>\n",
       "      <th>review_scores_rating</th>\n",
       "      <th>maximum_nights</th>\n",
       "    </tr>\n",
       "  </thead>\n",
       "  <tbody>\n",
       "    <tr>\n",
       "      <th>count</th>\n",
       "      <td>8.739000e+03</td>\n",
       "      <td>8.739000e+03</td>\n",
       "      <td>8739.000000</td>\n",
       "      <td>8739.000000</td>\n",
       "      <td>8443.000000</td>\n",
       "      <td>8739.000000</td>\n",
       "      <td>8739.000000</td>\n",
       "      <td>7817.000000</td>\n",
       "      <td>8739.00000</td>\n",
       "      <td>8739.000000</td>\n",
       "      <td>8739.000000</td>\n",
       "      <td>5679.000000</td>\n",
       "      <td>8739.000000</td>\n",
       "      <td>7824.000000</td>\n",
       "      <td>7825.000000</td>\n",
       "      <td>7825.000000</td>\n",
       "      <td>8739.000000</td>\n",
       "    </tr>\n",
       "    <tr>\n",
       "      <th>mean</th>\n",
       "      <td>3.448635e+17</td>\n",
       "      <td>1.095547e+08</td>\n",
       "      <td>52.366514</td>\n",
       "      <td>4.889732</td>\n",
       "      <td>251.160725</td>\n",
       "      <td>4.138803</td>\n",
       "      <td>45.042453</td>\n",
       "      <td>1.093275</td>\n",
       "      <td>1.73212</td>\n",
       "      <td>80.523630</td>\n",
       "      <td>10.475569</td>\n",
       "      <td>93.497623</td>\n",
       "      <td>2.902392</td>\n",
       "      <td>4.798282</td>\n",
       "      <td>4.903413</td>\n",
       "      <td>4.837604</td>\n",
       "      <td>370.290079</td>\n",
       "    </tr>\n",
       "    <tr>\n",
       "      <th>std</th>\n",
       "      <td>4.181954e+17</td>\n",
       "      <td>1.473164e+08</td>\n",
       "      <td>0.017253</td>\n",
       "      <td>0.035585</td>\n",
       "      <td>421.177934</td>\n",
       "      <td>17.108464</td>\n",
       "      <td>110.191857</td>\n",
       "      <td>2.305930</td>\n",
       "      <td>2.52209</td>\n",
       "      <td>112.853876</td>\n",
       "      <td>30.015613</td>\n",
       "      <td>18.253536</td>\n",
       "      <td>1.341186</td>\n",
       "      <td>0.255773</td>\n",
       "      <td>0.215054</td>\n",
       "      <td>0.245794</td>\n",
       "      <td>456.021040</td>\n",
       "    </tr>\n",
       "    <tr>\n",
       "      <th>min</th>\n",
       "      <td>2.818000e+03</td>\n",
       "      <td>3.159000e+03</td>\n",
       "      <td>52.290340</td>\n",
       "      <td>4.755870</td>\n",
       "      <td>10.000000</td>\n",
       "      <td>1.000000</td>\n",
       "      <td>0.000000</td>\n",
       "      <td>0.010000</td>\n",
       "      <td>1.00000</td>\n",
       "      <td>0.000000</td>\n",
       "      <td>0.000000</td>\n",
       "      <td>0.000000</td>\n",
       "      <td>1.000000</td>\n",
       "      <td>1.000000</td>\n",
       "      <td>1.000000</td>\n",
       "      <td>1.000000</td>\n",
       "      <td>1.000000</td>\n",
       "    </tr>\n",
       "    <tr>\n",
       "      <th>25%</th>\n",
       "      <td>1.957993e+07</td>\n",
       "      <td>1.058756e+07</td>\n",
       "      <td>52.355490</td>\n",
       "      <td>4.864860</td>\n",
       "      <td>144.000000</td>\n",
       "      <td>2.000000</td>\n",
       "      <td>3.000000</td>\n",
       "      <td>0.260000</td>\n",
       "      <td>1.00000</td>\n",
       "      <td>0.000000</td>\n",
       "      <td>0.000000</td>\n",
       "      <td>100.000000</td>\n",
       "      <td>2.000000</td>\n",
       "      <td>4.690000</td>\n",
       "      <td>4.890000</td>\n",
       "      <td>4.770000</td>\n",
       "      <td>20.000000</td>\n",
       "    </tr>\n",
       "    <tr>\n",
       "      <th>50%</th>\n",
       "      <td>4.553979e+07</td>\n",
       "      <td>3.725295e+07</td>\n",
       "      <td>52.365640</td>\n",
       "      <td>4.887550</td>\n",
       "      <td>200.000000</td>\n",
       "      <td>3.000000</td>\n",
       "      <td>9.000000</td>\n",
       "      <td>0.530000</td>\n",
       "      <td>1.00000</td>\n",
       "      <td>16.000000</td>\n",
       "      <td>3.000000</td>\n",
       "      <td>100.000000</td>\n",
       "      <td>2.000000</td>\n",
       "      <td>4.870000</td>\n",
       "      <td>5.000000</td>\n",
       "      <td>4.910000</td>\n",
       "      <td>50.000000</td>\n",
       "    </tr>\n",
       "    <tr>\n",
       "      <th>75%</th>\n",
       "      <td>7.911577e+17</td>\n",
       "      <td>1.454343e+08</td>\n",
       "      <td>52.376330</td>\n",
       "      <td>4.908849</td>\n",
       "      <td>297.000000</td>\n",
       "      <td>4.000000</td>\n",
       "      <td>35.000000</td>\n",
       "      <td>1.080000</td>\n",
       "      <td>1.00000</td>\n",
       "      <td>132.000000</td>\n",
       "      <td>7.000000</td>\n",
       "      <td>100.000000</td>\n",
       "      <td>4.000000</td>\n",
       "      <td>5.000000</td>\n",
       "      <td>5.000000</td>\n",
       "      <td>5.000000</td>\n",
       "      <td>730.000000</td>\n",
       "    </tr>\n",
       "    <tr>\n",
       "      <th>max</th>\n",
       "      <td>1.043564e+18</td>\n",
       "      <td>5.503263e+08</td>\n",
       "      <td>52.425159</td>\n",
       "      <td>5.026669</td>\n",
       "      <td>25457.000000</td>\n",
       "      <td>1001.000000</td>\n",
       "      <td>3528.000000</td>\n",
       "      <td>117.730000</td>\n",
       "      <td>22.00000</td>\n",
       "      <td>365.000000</td>\n",
       "      <td>1632.000000</td>\n",
       "      <td>100.000000</td>\n",
       "      <td>16.000000</td>\n",
       "      <td>5.000000</td>\n",
       "      <td>5.000000</td>\n",
       "      <td>5.000000</td>\n",
       "      <td>1125.000000</td>\n",
       "    </tr>\n",
       "  </tbody>\n",
       "</table>\n",
       "</div>"
      ],
      "text/plain": [
       "                 id       host_id     latitude    longitude         price  \\\n",
       "count  8.739000e+03  8.739000e+03  8739.000000  8739.000000   8443.000000   \n",
       "mean   3.448635e+17  1.095547e+08    52.366514     4.889732    251.160725   \n",
       "std    4.181954e+17  1.473164e+08     0.017253     0.035585    421.177934   \n",
       "min    2.818000e+03  3.159000e+03    52.290340     4.755870     10.000000   \n",
       "25%    1.957993e+07  1.058756e+07    52.355490     4.864860    144.000000   \n",
       "50%    4.553979e+07  3.725295e+07    52.365640     4.887550    200.000000   \n",
       "75%    7.911577e+17  1.454343e+08    52.376330     4.908849    297.000000   \n",
       "max    1.043564e+18  5.503263e+08    52.425159     5.026669  25457.000000   \n",
       "\n",
       "       minimum_nights  number_of_reviews  reviews_per_month  \\\n",
       "count     8739.000000        8739.000000        7817.000000   \n",
       "mean         4.138803          45.042453           1.093275   \n",
       "std         17.108464         110.191857           2.305930   \n",
       "min          1.000000           0.000000           0.010000   \n",
       "25%          2.000000           3.000000           0.260000   \n",
       "50%          3.000000           9.000000           0.530000   \n",
       "75%          4.000000          35.000000           1.080000   \n",
       "max       1001.000000        3528.000000         117.730000   \n",
       "\n",
       "       calculated_host_listings_count  availability_365  \\\n",
       "count                      8739.00000       8739.000000   \n",
       "mean                          1.73212         80.523630   \n",
       "std                           2.52209        112.853876   \n",
       "min                           1.00000          0.000000   \n",
       "25%                           1.00000          0.000000   \n",
       "50%                           1.00000         16.000000   \n",
       "75%                           1.00000        132.000000   \n",
       "max                          22.00000        365.000000   \n",
       "\n",
       "       number_of_reviews_ltm  host_response_rate  accommodates  \\\n",
       "count            8739.000000         5679.000000   8739.000000   \n",
       "mean               10.475569           93.497623      2.902392   \n",
       "std                30.015613           18.253536      1.341186   \n",
       "min                 0.000000            0.000000      1.000000   \n",
       "25%                 0.000000          100.000000      2.000000   \n",
       "50%                 3.000000          100.000000      2.000000   \n",
       "75%                 7.000000          100.000000      4.000000   \n",
       "max              1632.000000          100.000000     16.000000   \n",
       "\n",
       "       review_scores_location  review_scores_communication  \\\n",
       "count             7824.000000                  7825.000000   \n",
       "mean                 4.798282                     4.903413   \n",
       "std                  0.255773                     0.215054   \n",
       "min                  1.000000                     1.000000   \n",
       "25%                  4.690000                     4.890000   \n",
       "50%                  4.870000                     5.000000   \n",
       "75%                  5.000000                     5.000000   \n",
       "max                  5.000000                     5.000000   \n",
       "\n",
       "       review_scores_rating  maximum_nights  \n",
       "count           7825.000000     8739.000000  \n",
       "mean               4.837604      370.290079  \n",
       "std                0.245794      456.021040  \n",
       "min                1.000000        1.000000  \n",
       "25%                4.770000       20.000000  \n",
       "50%                4.910000       50.000000  \n",
       "75%                5.000000      730.000000  \n",
       "max                5.000000     1125.000000  "
      ]
     },
     "execution_count": 255,
     "metadata": {},
     "output_type": "execute_result"
    }
   ],
   "source": [
    "df_list_merge.describe()"
   ]
  },
  {
   "cell_type": "code",
   "execution_count": 256,
   "id": "9efd0602",
   "metadata": {},
   "outputs": [
    {
     "data": {
      "text/plain": [
       "id                                   0\n",
       "name                                 0\n",
       "host_id                              0\n",
       "neighbourhood                        0\n",
       "latitude                             0\n",
       "longitude                            0\n",
       "room_type                            0\n",
       "price                              296\n",
       "minimum_nights                       0\n",
       "number_of_reviews                    0\n",
       "last_review                        922\n",
       "reviews_per_month                  922\n",
       "calculated_host_listings_count       0\n",
       "availability_365                     0\n",
       "number_of_reviews_ltm                0\n",
       "host_response_rate                3060\n",
       "host_since                           0\n",
       "host_response_time                3060\n",
       "property_type                        0\n",
       "accommodates                         0\n",
       "first_review                       922\n",
       "review_scores_location             915\n",
       "review_scores_communication        914\n",
       "review_scores_rating               914\n",
       "maximum_nights                       0\n",
       "host_is_superhost                   52\n",
       "host_has_profile_pic                 0\n",
       "dtype: int64"
      ]
     },
     "execution_count": 256,
     "metadata": {},
     "output_type": "execute_result"
    }
   ],
   "source": [
    "#checking for missing data\n",
    "df_list_merge.isnull().sum()"
   ]
  },
  {
   "cell_type": "code",
   "execution_count": 257,
   "id": "f6ede0b5",
   "metadata": {},
   "outputs": [
    {
     "name": "stdout",
     "output_type": "stream",
     "text": [
      "last_review\n",
      "host_response_time\n",
      "first_review\n",
      "host_is_superhost\n"
     ]
    },
    {
     "name": "stderr",
     "output_type": "stream",
     "text": [
      "/var/folders/lt/8nbq3ckj63b31sc2gk8qbwvc0000gn/T/ipykernel_1053/3685634633.py:2: FutureWarning: DataFrame.applymap has been deprecated. Use DataFrame.map instead.\n",
      "  weird = (df_list_merge[[col]].applymap(type) != df_list_merge[[col]].iloc[0].apply(type)).any(axis = 1)\n",
      "/var/folders/lt/8nbq3ckj63b31sc2gk8qbwvc0000gn/T/ipykernel_1053/3685634633.py:2: FutureWarning: DataFrame.applymap has been deprecated. Use DataFrame.map instead.\n",
      "  weird = (df_list_merge[[col]].applymap(type) != df_list_merge[[col]].iloc[0].apply(type)).any(axis = 1)\n",
      "/var/folders/lt/8nbq3ckj63b31sc2gk8qbwvc0000gn/T/ipykernel_1053/3685634633.py:2: FutureWarning: DataFrame.applymap has been deprecated. Use DataFrame.map instead.\n",
      "  weird = (df_list_merge[[col]].applymap(type) != df_list_merge[[col]].iloc[0].apply(type)).any(axis = 1)\n",
      "/var/folders/lt/8nbq3ckj63b31sc2gk8qbwvc0000gn/T/ipykernel_1053/3685634633.py:2: FutureWarning: DataFrame.applymap has been deprecated. Use DataFrame.map instead.\n",
      "  weird = (df_list_merge[[col]].applymap(type) != df_list_merge[[col]].iloc[0].apply(type)).any(axis = 1)\n",
      "/var/folders/lt/8nbq3ckj63b31sc2gk8qbwvc0000gn/T/ipykernel_1053/3685634633.py:2: FutureWarning: DataFrame.applymap has been deprecated. Use DataFrame.map instead.\n",
      "  weird = (df_list_merge[[col]].applymap(type) != df_list_merge[[col]].iloc[0].apply(type)).any(axis = 1)\n",
      "/var/folders/lt/8nbq3ckj63b31sc2gk8qbwvc0000gn/T/ipykernel_1053/3685634633.py:2: FutureWarning: DataFrame.applymap has been deprecated. Use DataFrame.map instead.\n",
      "  weird = (df_list_merge[[col]].applymap(type) != df_list_merge[[col]].iloc[0].apply(type)).any(axis = 1)\n",
      "/var/folders/lt/8nbq3ckj63b31sc2gk8qbwvc0000gn/T/ipykernel_1053/3685634633.py:2: FutureWarning: DataFrame.applymap has been deprecated. Use DataFrame.map instead.\n",
      "  weird = (df_list_merge[[col]].applymap(type) != df_list_merge[[col]].iloc[0].apply(type)).any(axis = 1)\n",
      "/var/folders/lt/8nbq3ckj63b31sc2gk8qbwvc0000gn/T/ipykernel_1053/3685634633.py:2: FutureWarning: DataFrame.applymap has been deprecated. Use DataFrame.map instead.\n",
      "  weird = (df_list_merge[[col]].applymap(type) != df_list_merge[[col]].iloc[0].apply(type)).any(axis = 1)\n",
      "/var/folders/lt/8nbq3ckj63b31sc2gk8qbwvc0000gn/T/ipykernel_1053/3685634633.py:2: FutureWarning: DataFrame.applymap has been deprecated. Use DataFrame.map instead.\n",
      "  weird = (df_list_merge[[col]].applymap(type) != df_list_merge[[col]].iloc[0].apply(type)).any(axis = 1)\n",
      "/var/folders/lt/8nbq3ckj63b31sc2gk8qbwvc0000gn/T/ipykernel_1053/3685634633.py:2: FutureWarning: DataFrame.applymap has been deprecated. Use DataFrame.map instead.\n",
      "  weird = (df_list_merge[[col]].applymap(type) != df_list_merge[[col]].iloc[0].apply(type)).any(axis = 1)\n",
      "/var/folders/lt/8nbq3ckj63b31sc2gk8qbwvc0000gn/T/ipykernel_1053/3685634633.py:2: FutureWarning: DataFrame.applymap has been deprecated. Use DataFrame.map instead.\n",
      "  weird = (df_list_merge[[col]].applymap(type) != df_list_merge[[col]].iloc[0].apply(type)).any(axis = 1)\n",
      "/var/folders/lt/8nbq3ckj63b31sc2gk8qbwvc0000gn/T/ipykernel_1053/3685634633.py:2: FutureWarning: DataFrame.applymap has been deprecated. Use DataFrame.map instead.\n",
      "  weird = (df_list_merge[[col]].applymap(type) != df_list_merge[[col]].iloc[0].apply(type)).any(axis = 1)\n",
      "/var/folders/lt/8nbq3ckj63b31sc2gk8qbwvc0000gn/T/ipykernel_1053/3685634633.py:2: FutureWarning: DataFrame.applymap has been deprecated. Use DataFrame.map instead.\n",
      "  weird = (df_list_merge[[col]].applymap(type) != df_list_merge[[col]].iloc[0].apply(type)).any(axis = 1)\n",
      "/var/folders/lt/8nbq3ckj63b31sc2gk8qbwvc0000gn/T/ipykernel_1053/3685634633.py:2: FutureWarning: DataFrame.applymap has been deprecated. Use DataFrame.map instead.\n",
      "  weird = (df_list_merge[[col]].applymap(type) != df_list_merge[[col]].iloc[0].apply(type)).any(axis = 1)\n",
      "/var/folders/lt/8nbq3ckj63b31sc2gk8qbwvc0000gn/T/ipykernel_1053/3685634633.py:2: FutureWarning: DataFrame.applymap has been deprecated. Use DataFrame.map instead.\n",
      "  weird = (df_list_merge[[col]].applymap(type) != df_list_merge[[col]].iloc[0].apply(type)).any(axis = 1)\n",
      "/var/folders/lt/8nbq3ckj63b31sc2gk8qbwvc0000gn/T/ipykernel_1053/3685634633.py:2: FutureWarning: DataFrame.applymap has been deprecated. Use DataFrame.map instead.\n",
      "  weird = (df_list_merge[[col]].applymap(type) != df_list_merge[[col]].iloc[0].apply(type)).any(axis = 1)\n",
      "/var/folders/lt/8nbq3ckj63b31sc2gk8qbwvc0000gn/T/ipykernel_1053/3685634633.py:2: FutureWarning: DataFrame.applymap has been deprecated. Use DataFrame.map instead.\n",
      "  weird = (df_list_merge[[col]].applymap(type) != df_list_merge[[col]].iloc[0].apply(type)).any(axis = 1)\n",
      "/var/folders/lt/8nbq3ckj63b31sc2gk8qbwvc0000gn/T/ipykernel_1053/3685634633.py:2: FutureWarning: DataFrame.applymap has been deprecated. Use DataFrame.map instead.\n",
      "  weird = (df_list_merge[[col]].applymap(type) != df_list_merge[[col]].iloc[0].apply(type)).any(axis = 1)\n",
      "/var/folders/lt/8nbq3ckj63b31sc2gk8qbwvc0000gn/T/ipykernel_1053/3685634633.py:2: FutureWarning: DataFrame.applymap has been deprecated. Use DataFrame.map instead.\n",
      "  weird = (df_list_merge[[col]].applymap(type) != df_list_merge[[col]].iloc[0].apply(type)).any(axis = 1)\n",
      "/var/folders/lt/8nbq3ckj63b31sc2gk8qbwvc0000gn/T/ipykernel_1053/3685634633.py:2: FutureWarning: DataFrame.applymap has been deprecated. Use DataFrame.map instead.\n",
      "  weird = (df_list_merge[[col]].applymap(type) != df_list_merge[[col]].iloc[0].apply(type)).any(axis = 1)\n",
      "/var/folders/lt/8nbq3ckj63b31sc2gk8qbwvc0000gn/T/ipykernel_1053/3685634633.py:2: FutureWarning: DataFrame.applymap has been deprecated. Use DataFrame.map instead.\n",
      "  weird = (df_list_merge[[col]].applymap(type) != df_list_merge[[col]].iloc[0].apply(type)).any(axis = 1)\n",
      "/var/folders/lt/8nbq3ckj63b31sc2gk8qbwvc0000gn/T/ipykernel_1053/3685634633.py:2: FutureWarning: DataFrame.applymap has been deprecated. Use DataFrame.map instead.\n",
      "  weird = (df_list_merge[[col]].applymap(type) != df_list_merge[[col]].iloc[0].apply(type)).any(axis = 1)\n",
      "/var/folders/lt/8nbq3ckj63b31sc2gk8qbwvc0000gn/T/ipykernel_1053/3685634633.py:2: FutureWarning: DataFrame.applymap has been deprecated. Use DataFrame.map instead.\n",
      "  weird = (df_list_merge[[col]].applymap(type) != df_list_merge[[col]].iloc[0].apply(type)).any(axis = 1)\n",
      "/var/folders/lt/8nbq3ckj63b31sc2gk8qbwvc0000gn/T/ipykernel_1053/3685634633.py:2: FutureWarning: DataFrame.applymap has been deprecated. Use DataFrame.map instead.\n",
      "  weird = (df_list_merge[[col]].applymap(type) != df_list_merge[[col]].iloc[0].apply(type)).any(axis = 1)\n",
      "/var/folders/lt/8nbq3ckj63b31sc2gk8qbwvc0000gn/T/ipykernel_1053/3685634633.py:2: FutureWarning: DataFrame.applymap has been deprecated. Use DataFrame.map instead.\n",
      "  weird = (df_list_merge[[col]].applymap(type) != df_list_merge[[col]].iloc[0].apply(type)).any(axis = 1)\n",
      "/var/folders/lt/8nbq3ckj63b31sc2gk8qbwvc0000gn/T/ipykernel_1053/3685634633.py:2: FutureWarning: DataFrame.applymap has been deprecated. Use DataFrame.map instead.\n",
      "  weird = (df_list_merge[[col]].applymap(type) != df_list_merge[[col]].iloc[0].apply(type)).any(axis = 1)\n",
      "/var/folders/lt/8nbq3ckj63b31sc2gk8qbwvc0000gn/T/ipykernel_1053/3685634633.py:2: FutureWarning: DataFrame.applymap has been deprecated. Use DataFrame.map instead.\n",
      "  weird = (df_list_merge[[col]].applymap(type) != df_list_merge[[col]].iloc[0].apply(type)).any(axis = 1)\n"
     ]
    }
   ],
   "source": [
    "for col in df_list_merge.columns.tolist():\n",
    "    weird = (df_list_merge[[col]].applymap(type) != df_list_merge[[col]].iloc[0].apply(type)).any(axis = 1)\n",
    "    if len (df_list_merge[weird]) > 0:\n",
    "        print (col)"
   ]
  },
  {
   "cell_type": "code",
   "execution_count": 258,
   "id": "b94784a4",
   "metadata": {},
   "outputs": [],
   "source": [
    "# update last_review & first_review from int to datetime\n",
    "\n",
    "df_list_merge['last_review'] = pd.to_datetime(df_list_merge['last_review'], errors = 'ignore')"
   ]
  },
  {
   "cell_type": "code",
   "execution_count": 259,
   "id": "97de9729",
   "metadata": {},
   "outputs": [],
   "source": [
    "# update last_review & first_review from int to datetime\n",
    "\n",
    "df_list_merge['first_review'] = pd.to_datetime(df_list_merge['first_review'], errors = 'ignore')"
   ]
  },
  {
   "cell_type": "code",
   "execution_count": 260,
   "id": "fd975415",
   "metadata": {},
   "outputs": [],
   "source": [
    "# update host_response_time from int to str\n",
    "df_list_merge ['host_response_time'] = df_list_merge ['host_response_time'].astype('str', errors = 'ignore')"
   ]
  },
  {
   "cell_type": "code",
   "execution_count": 261,
   "id": "a5a24f81",
   "metadata": {},
   "outputs": [],
   "source": [
    "# update host_response_rate from int to float\n",
    "df_list_merge ['host_response_rate'] = df_list_merge ['host_response_rate'].astype('float', errors = 'ignore')"
   ]
  },
  {
   "cell_type": "code",
   "execution_count": 262,
   "id": "6b1293ff",
   "metadata": {},
   "outputs": [],
   "source": [
    "# update host is superhost and host has profile has profile pic to boolean \n",
    "vals_to_replace = {\"t\": 1, \"f\":0}\n",
    "\n",
    "column_boo = ['host_is_superhost', 'host_has_profile_pic']\n",
    "\n",
    "for column in column_boo: \n",
    "    df_list_merge [column] = df_list_merge[column].map(vals_to_replace)"
   ]
  },
  {
   "cell_type": "code",
   "execution_count": 263,
   "id": "2bd4f64b",
   "metadata": {},
   "outputs": [
    {
     "name": "stdout",
     "output_type": "stream",
     "text": [
      "last_review\n",
      "first_review\n"
     ]
    },
    {
     "name": "stderr",
     "output_type": "stream",
     "text": [
      "/var/folders/lt/8nbq3ckj63b31sc2gk8qbwvc0000gn/T/ipykernel_1053/3685634633.py:2: FutureWarning: DataFrame.applymap has been deprecated. Use DataFrame.map instead.\n",
      "  weird = (df_list_merge[[col]].applymap(type) != df_list_merge[[col]].iloc[0].apply(type)).any(axis = 1)\n",
      "/var/folders/lt/8nbq3ckj63b31sc2gk8qbwvc0000gn/T/ipykernel_1053/3685634633.py:2: FutureWarning: DataFrame.applymap has been deprecated. Use DataFrame.map instead.\n",
      "  weird = (df_list_merge[[col]].applymap(type) != df_list_merge[[col]].iloc[0].apply(type)).any(axis = 1)\n",
      "/var/folders/lt/8nbq3ckj63b31sc2gk8qbwvc0000gn/T/ipykernel_1053/3685634633.py:2: FutureWarning: DataFrame.applymap has been deprecated. Use DataFrame.map instead.\n",
      "  weird = (df_list_merge[[col]].applymap(type) != df_list_merge[[col]].iloc[0].apply(type)).any(axis = 1)\n",
      "/var/folders/lt/8nbq3ckj63b31sc2gk8qbwvc0000gn/T/ipykernel_1053/3685634633.py:2: FutureWarning: DataFrame.applymap has been deprecated. Use DataFrame.map instead.\n",
      "  weird = (df_list_merge[[col]].applymap(type) != df_list_merge[[col]].iloc[0].apply(type)).any(axis = 1)\n",
      "/var/folders/lt/8nbq3ckj63b31sc2gk8qbwvc0000gn/T/ipykernel_1053/3685634633.py:2: FutureWarning: DataFrame.applymap has been deprecated. Use DataFrame.map instead.\n",
      "  weird = (df_list_merge[[col]].applymap(type) != df_list_merge[[col]].iloc[0].apply(type)).any(axis = 1)\n",
      "/var/folders/lt/8nbq3ckj63b31sc2gk8qbwvc0000gn/T/ipykernel_1053/3685634633.py:2: FutureWarning: DataFrame.applymap has been deprecated. Use DataFrame.map instead.\n",
      "  weird = (df_list_merge[[col]].applymap(type) != df_list_merge[[col]].iloc[0].apply(type)).any(axis = 1)\n",
      "/var/folders/lt/8nbq3ckj63b31sc2gk8qbwvc0000gn/T/ipykernel_1053/3685634633.py:2: FutureWarning: DataFrame.applymap has been deprecated. Use DataFrame.map instead.\n",
      "  weird = (df_list_merge[[col]].applymap(type) != df_list_merge[[col]].iloc[0].apply(type)).any(axis = 1)\n",
      "/var/folders/lt/8nbq3ckj63b31sc2gk8qbwvc0000gn/T/ipykernel_1053/3685634633.py:2: FutureWarning: DataFrame.applymap has been deprecated. Use DataFrame.map instead.\n",
      "  weird = (df_list_merge[[col]].applymap(type) != df_list_merge[[col]].iloc[0].apply(type)).any(axis = 1)\n",
      "/var/folders/lt/8nbq3ckj63b31sc2gk8qbwvc0000gn/T/ipykernel_1053/3685634633.py:2: FutureWarning: DataFrame.applymap has been deprecated. Use DataFrame.map instead.\n",
      "  weird = (df_list_merge[[col]].applymap(type) != df_list_merge[[col]].iloc[0].apply(type)).any(axis = 1)\n",
      "/var/folders/lt/8nbq3ckj63b31sc2gk8qbwvc0000gn/T/ipykernel_1053/3685634633.py:2: FutureWarning: DataFrame.applymap has been deprecated. Use DataFrame.map instead.\n",
      "  weird = (df_list_merge[[col]].applymap(type) != df_list_merge[[col]].iloc[0].apply(type)).any(axis = 1)\n",
      "/var/folders/lt/8nbq3ckj63b31sc2gk8qbwvc0000gn/T/ipykernel_1053/3685634633.py:2: FutureWarning: DataFrame.applymap has been deprecated. Use DataFrame.map instead.\n",
      "  weird = (df_list_merge[[col]].applymap(type) != df_list_merge[[col]].iloc[0].apply(type)).any(axis = 1)\n",
      "/var/folders/lt/8nbq3ckj63b31sc2gk8qbwvc0000gn/T/ipykernel_1053/3685634633.py:2: FutureWarning: DataFrame.applymap has been deprecated. Use DataFrame.map instead.\n",
      "  weird = (df_list_merge[[col]].applymap(type) != df_list_merge[[col]].iloc[0].apply(type)).any(axis = 1)\n",
      "/var/folders/lt/8nbq3ckj63b31sc2gk8qbwvc0000gn/T/ipykernel_1053/3685634633.py:2: FutureWarning: DataFrame.applymap has been deprecated. Use DataFrame.map instead.\n",
      "  weird = (df_list_merge[[col]].applymap(type) != df_list_merge[[col]].iloc[0].apply(type)).any(axis = 1)\n",
      "/var/folders/lt/8nbq3ckj63b31sc2gk8qbwvc0000gn/T/ipykernel_1053/3685634633.py:2: FutureWarning: DataFrame.applymap has been deprecated. Use DataFrame.map instead.\n",
      "  weird = (df_list_merge[[col]].applymap(type) != df_list_merge[[col]].iloc[0].apply(type)).any(axis = 1)\n",
      "/var/folders/lt/8nbq3ckj63b31sc2gk8qbwvc0000gn/T/ipykernel_1053/3685634633.py:2: FutureWarning: DataFrame.applymap has been deprecated. Use DataFrame.map instead.\n",
      "  weird = (df_list_merge[[col]].applymap(type) != df_list_merge[[col]].iloc[0].apply(type)).any(axis = 1)\n",
      "/var/folders/lt/8nbq3ckj63b31sc2gk8qbwvc0000gn/T/ipykernel_1053/3685634633.py:2: FutureWarning: DataFrame.applymap has been deprecated. Use DataFrame.map instead.\n",
      "  weird = (df_list_merge[[col]].applymap(type) != df_list_merge[[col]].iloc[0].apply(type)).any(axis = 1)\n",
      "/var/folders/lt/8nbq3ckj63b31sc2gk8qbwvc0000gn/T/ipykernel_1053/3685634633.py:2: FutureWarning: DataFrame.applymap has been deprecated. Use DataFrame.map instead.\n",
      "  weird = (df_list_merge[[col]].applymap(type) != df_list_merge[[col]].iloc[0].apply(type)).any(axis = 1)\n",
      "/var/folders/lt/8nbq3ckj63b31sc2gk8qbwvc0000gn/T/ipykernel_1053/3685634633.py:2: FutureWarning: DataFrame.applymap has been deprecated. Use DataFrame.map instead.\n",
      "  weird = (df_list_merge[[col]].applymap(type) != df_list_merge[[col]].iloc[0].apply(type)).any(axis = 1)\n",
      "/var/folders/lt/8nbq3ckj63b31sc2gk8qbwvc0000gn/T/ipykernel_1053/3685634633.py:2: FutureWarning: DataFrame.applymap has been deprecated. Use DataFrame.map instead.\n",
      "  weird = (df_list_merge[[col]].applymap(type) != df_list_merge[[col]].iloc[0].apply(type)).any(axis = 1)\n",
      "/var/folders/lt/8nbq3ckj63b31sc2gk8qbwvc0000gn/T/ipykernel_1053/3685634633.py:2: FutureWarning: DataFrame.applymap has been deprecated. Use DataFrame.map instead.\n",
      "  weird = (df_list_merge[[col]].applymap(type) != df_list_merge[[col]].iloc[0].apply(type)).any(axis = 1)\n",
      "/var/folders/lt/8nbq3ckj63b31sc2gk8qbwvc0000gn/T/ipykernel_1053/3685634633.py:2: FutureWarning: DataFrame.applymap has been deprecated. Use DataFrame.map instead.\n",
      "  weird = (df_list_merge[[col]].applymap(type) != df_list_merge[[col]].iloc[0].apply(type)).any(axis = 1)\n",
      "/var/folders/lt/8nbq3ckj63b31sc2gk8qbwvc0000gn/T/ipykernel_1053/3685634633.py:2: FutureWarning: DataFrame.applymap has been deprecated. Use DataFrame.map instead.\n",
      "  weird = (df_list_merge[[col]].applymap(type) != df_list_merge[[col]].iloc[0].apply(type)).any(axis = 1)\n",
      "/var/folders/lt/8nbq3ckj63b31sc2gk8qbwvc0000gn/T/ipykernel_1053/3685634633.py:2: FutureWarning: DataFrame.applymap has been deprecated. Use DataFrame.map instead.\n",
      "  weird = (df_list_merge[[col]].applymap(type) != df_list_merge[[col]].iloc[0].apply(type)).any(axis = 1)\n",
      "/var/folders/lt/8nbq3ckj63b31sc2gk8qbwvc0000gn/T/ipykernel_1053/3685634633.py:2: FutureWarning: DataFrame.applymap has been deprecated. Use DataFrame.map instead.\n",
      "  weird = (df_list_merge[[col]].applymap(type) != df_list_merge[[col]].iloc[0].apply(type)).any(axis = 1)\n",
      "/var/folders/lt/8nbq3ckj63b31sc2gk8qbwvc0000gn/T/ipykernel_1053/3685634633.py:2: FutureWarning: DataFrame.applymap has been deprecated. Use DataFrame.map instead.\n",
      "  weird = (df_list_merge[[col]].applymap(type) != df_list_merge[[col]].iloc[0].apply(type)).any(axis = 1)\n",
      "/var/folders/lt/8nbq3ckj63b31sc2gk8qbwvc0000gn/T/ipykernel_1053/3685634633.py:2: FutureWarning: DataFrame.applymap has been deprecated. Use DataFrame.map instead.\n",
      "  weird = (df_list_merge[[col]].applymap(type) != df_list_merge[[col]].iloc[0].apply(type)).any(axis = 1)\n",
      "/var/folders/lt/8nbq3ckj63b31sc2gk8qbwvc0000gn/T/ipykernel_1053/3685634633.py:2: FutureWarning: DataFrame.applymap has been deprecated. Use DataFrame.map instead.\n",
      "  weird = (df_list_merge[[col]].applymap(type) != df_list_merge[[col]].iloc[0].apply(type)).any(axis = 1)\n"
     ]
    }
   ],
   "source": [
    "for col in df_list_merge.columns.tolist():\n",
    "    weird = (df_list_merge[[col]].applymap(type) != df_list_merge[[col]].iloc[0].apply(type)).any(axis = 1)\n",
    "    if len (df_list_merge[weird]) > 0:\n",
    "        print (col)"
   ]
  },
  {
   "cell_type": "code",
   "execution_count": 264,
   "id": "00ddab00",
   "metadata": {},
   "outputs": [
    {
     "data": {
      "text/plain": [
       "id                                   0\n",
       "name                                 0\n",
       "host_id                              0\n",
       "neighbourhood                        0\n",
       "latitude                             0\n",
       "longitude                            0\n",
       "room_type                            0\n",
       "price                              296\n",
       "minimum_nights                       0\n",
       "number_of_reviews                    0\n",
       "last_review                        922\n",
       "reviews_per_month                  922\n",
       "calculated_host_listings_count       0\n",
       "availability_365                     0\n",
       "number_of_reviews_ltm                0\n",
       "host_response_rate                3060\n",
       "host_since                           0\n",
       "host_response_time                   0\n",
       "property_type                        0\n",
       "accommodates                         0\n",
       "first_review                       922\n",
       "review_scores_location             915\n",
       "review_scores_communication        914\n",
       "review_scores_rating               914\n",
       "maximum_nights                       0\n",
       "host_is_superhost                   52\n",
       "host_has_profile_pic                 0\n",
       "dtype: int64"
      ]
     },
     "execution_count": 264,
     "metadata": {},
     "output_type": "execute_result"
    }
   ],
   "source": [
    "df_list_merge.isnull().sum()"
   ]
  },
  {
   "cell_type": "code",
   "execution_count": 275,
   "id": "2a4cb713",
   "metadata": {},
   "outputs": [
    {
     "data": {
      "text/html": [
       "<div>\n",
       "<style scoped>\n",
       "    .dataframe tbody tr th:only-of-type {\n",
       "        vertical-align: middle;\n",
       "    }\n",
       "\n",
       "    .dataframe tbody tr th {\n",
       "        vertical-align: top;\n",
       "    }\n",
       "\n",
       "    .dataframe thead th {\n",
       "        text-align: right;\n",
       "    }\n",
       "</style>\n",
       "<table border=\"1\" class=\"dataframe\">\n",
       "  <thead>\n",
       "    <tr style=\"text-align: right;\">\n",
       "      <th></th>\n",
       "      <th>id</th>\n",
       "      <th>name</th>\n",
       "      <th>host_id</th>\n",
       "      <th>neighbourhood</th>\n",
       "      <th>latitude</th>\n",
       "      <th>longitude</th>\n",
       "      <th>room_type</th>\n",
       "      <th>price</th>\n",
       "      <th>minimum_nights</th>\n",
       "      <th>number_of_reviews</th>\n",
       "      <th>...</th>\n",
       "      <th>host_response_time</th>\n",
       "      <th>property_type</th>\n",
       "      <th>accommodates</th>\n",
       "      <th>first_review</th>\n",
       "      <th>review_scores_location</th>\n",
       "      <th>review_scores_communication</th>\n",
       "      <th>review_scores_rating</th>\n",
       "      <th>maximum_nights</th>\n",
       "      <th>host_is_superhost</th>\n",
       "      <th>host_has_profile_pic</th>\n",
       "    </tr>\n",
       "  </thead>\n",
       "  <tbody>\n",
       "    <tr>\n",
       "      <th>8498</th>\n",
       "      <td>1017123379516398253</td>\n",
       "      <td>Rental unit in Amsterdam · ★New · 2 bedrooms ·...</td>\n",
       "      <td>544834250</td>\n",
       "      <td>Centrum-Oost</td>\n",
       "      <td>52.372668</td>\n",
       "      <td>4.902379</td>\n",
       "      <td>Entire home/apt</td>\n",
       "      <td>379.0</td>\n",
       "      <td>2</td>\n",
       "      <td>1</td>\n",
       "      <td>...</td>\n",
       "      <td>within an hour</td>\n",
       "      <td>Entire rental unit</td>\n",
       "      <td>4</td>\n",
       "      <td>2023-12-02</td>\n",
       "      <td>NaN</td>\n",
       "      <td>5.0</td>\n",
       "      <td>5.0</td>\n",
       "      <td>1125</td>\n",
       "      <td>0.0</td>\n",
       "      <td>1</td>\n",
       "    </tr>\n",
       "  </tbody>\n",
       "</table>\n",
       "<p>1 rows × 27 columns</p>\n",
       "</div>"
      ],
      "text/plain": [
       "                       id                                               name  \\\n",
       "8498  1017123379516398253  Rental unit in Amsterdam · ★New · 2 bedrooms ·...   \n",
       "\n",
       "        host_id neighbourhood   latitude  longitude        room_type  price  \\\n",
       "8498  544834250  Centrum-Oost  52.372668   4.902379  Entire home/apt  379.0   \n",
       "\n",
       "      minimum_nights  number_of_reviews  ... host_response_time  \\\n",
       "8498               2                  1  ...     within an hour   \n",
       "\n",
       "           property_type  accommodates  first_review  review_scores_location  \\\n",
       "8498  Entire rental unit             4    2023-12-02                     NaN   \n",
       "\n",
       "      review_scores_communication review_scores_rating maximum_nights  \\\n",
       "8498                          5.0                  5.0           1125   \n",
       "\n",
       "     host_is_superhost  host_has_profile_pic  \n",
       "8498               0.0                     1  \n",
       "\n",
       "[1 rows x 27 columns]"
      ]
     },
     "execution_count": 275,
     "metadata": {},
     "output_type": "execute_result"
    }
   ],
   "source": [
    "#new df for host is superhost Nan values\n",
    "df_nan = df_list_clean[df_list_clean['review_scores_location'].isnull()==True]\n",
    "\n",
    "#check\n",
    "df_nan"
   ]
  },
  {
   "cell_type": "code",
   "execution_count": 267,
   "id": "d5c7a215",
   "metadata": {},
   "outputs": [
    {
     "data": {
      "text/plain": [
       "(8739, 27)"
      ]
     },
     "execution_count": 267,
     "metadata": {},
     "output_type": "execute_result"
    }
   ],
   "source": [
    "df_list_merge.shape"
   ]
  },
  {
   "cell_type": "code",
   "execution_count": 268,
   "id": "b75dccc6",
   "metadata": {},
   "outputs": [],
   "source": [
    "#new df with no missing values\n",
    "df_list_clean = df_list_merge[df_list_merge['price'].isnull() == False]"
   ]
  },
  {
   "cell_type": "code",
   "execution_count": 269,
   "id": "86591d92",
   "metadata": {},
   "outputs": [],
   "source": [
    "df_list_clean = df_list_merge[df_list_merge['review_scores_rating'].isnull() == False]"
   ]
  },
  {
   "cell_type": "code",
   "execution_count": 270,
   "id": "5569e397",
   "metadata": {},
   "outputs": [],
   "source": [
    "df_list_clean = df_list_merge[df_list_merge['last_review'].isnull() == False]"
   ]
  },
  {
   "cell_type": "code",
   "execution_count": 241,
   "id": "e084f8ac",
   "metadata": {},
   "outputs": [],
   "source": [
    "df_list_clean = df_list_merge[df_list_merge['host_is_superhost'].isnull() == False]"
   ]
  },
  {
   "cell_type": "code",
   "execution_count": 272,
   "id": "d01f53cb",
   "metadata": {},
   "outputs": [
    {
     "data": {
      "text/plain": [
       "(7817, 27)"
      ]
     },
     "execution_count": 272,
     "metadata": {},
     "output_type": "execute_result"
    }
   ],
   "source": [
    "#shape check\n",
    "df_list_clean.shape"
   ]
  },
  {
   "cell_type": "code",
   "execution_count": 271,
   "id": "6ce885a1",
   "metadata": {},
   "outputs": [
    {
     "data": {
      "text/plain": [
       "id                                   0\n",
       "name                                 0\n",
       "host_id                              0\n",
       "neighbourhood                        0\n",
       "latitude                             0\n",
       "longitude                            0\n",
       "room_type                            0\n",
       "price                              163\n",
       "minimum_nights                       0\n",
       "number_of_reviews                    0\n",
       "last_review                          0\n",
       "reviews_per_month                    0\n",
       "calculated_host_listings_count       0\n",
       "availability_365                     0\n",
       "number_of_reviews_ltm                0\n",
       "host_response_rate                2722\n",
       "host_since                           0\n",
       "host_response_time                   0\n",
       "property_type                        0\n",
       "accommodates                         0\n",
       "first_review                         0\n",
       "review_scores_location               1\n",
       "review_scores_communication          0\n",
       "review_scores_rating                 0\n",
       "maximum_nights                       0\n",
       "host_is_superhost                   47\n",
       "host_has_profile_pic                 0\n",
       "dtype: int64"
      ]
     },
     "execution_count": 271,
     "metadata": {},
     "output_type": "execute_result"
    }
   ],
   "source": [
    "df_list_clean.isnull().sum()"
   ]
  },
  {
   "cell_type": "markdown",
   "id": "3233c36b",
   "metadata": {},
   "source": [
    "### "
   ]
  },
  {
   "cell_type": "code",
   "execution_count": 276,
   "id": "a881876c",
   "metadata": {},
   "outputs": [
    {
     "data": {
      "text/html": [
       "<div>\n",
       "<style scoped>\n",
       "    .dataframe tbody tr th:only-of-type {\n",
       "        vertical-align: middle;\n",
       "    }\n",
       "\n",
       "    .dataframe tbody tr th {\n",
       "        vertical-align: top;\n",
       "    }\n",
       "\n",
       "    .dataframe thead th {\n",
       "        text-align: right;\n",
       "    }\n",
       "</style>\n",
       "<table border=\"1\" class=\"dataframe\">\n",
       "  <thead>\n",
       "    <tr style=\"text-align: right;\">\n",
       "      <th></th>\n",
       "      <th>id</th>\n",
       "      <th>name</th>\n",
       "      <th>host_id</th>\n",
       "      <th>neighbourhood</th>\n",
       "      <th>latitude</th>\n",
       "      <th>longitude</th>\n",
       "      <th>room_type</th>\n",
       "      <th>price</th>\n",
       "      <th>minimum_nights</th>\n",
       "      <th>number_of_reviews</th>\n",
       "      <th>...</th>\n",
       "      <th>host_response_time</th>\n",
       "      <th>property_type</th>\n",
       "      <th>accommodates</th>\n",
       "      <th>first_review</th>\n",
       "      <th>review_scores_location</th>\n",
       "      <th>review_scores_communication</th>\n",
       "      <th>review_scores_rating</th>\n",
       "      <th>maximum_nights</th>\n",
       "      <th>host_is_superhost</th>\n",
       "      <th>host_has_profile_pic</th>\n",
       "    </tr>\n",
       "  </thead>\n",
       "  <tbody>\n",
       "  </tbody>\n",
       "</table>\n",
       "<p>0 rows × 27 columns</p>\n",
       "</div>"
      ],
      "text/plain": [
       "Empty DataFrame\n",
       "Columns: [id, name, host_id, neighbourhood, latitude, longitude, room_type, price, minimum_nights, number_of_reviews, last_review, reviews_per_month, calculated_host_listings_count, availability_365, number_of_reviews_ltm, host_response_rate, host_since, host_response_time, property_type, accommodates, first_review, review_scores_location, review_scores_communication, review_scores_rating, maximum_nights, host_is_superhost, host_has_profile_pic]\n",
       "Index: []\n",
       "\n",
       "[0 rows x 27 columns]"
      ]
     },
     "execution_count": 276,
     "metadata": {},
     "output_type": "execute_result"
    }
   ],
   "source": [
    "#new df (df_list_clean) for finding duplicates\n",
    "df_dups=df_list_clean[df_list_clean.duplicated()]\n",
    "\n",
    "#check\n",
    "df_dups"
   ]
  },
  {
   "cell_type": "code",
   "execution_count": 277,
   "id": "47ebf031",
   "metadata": {},
   "outputs": [
    {
     "data": {
      "text/plain": [
       "first_review\n",
       "2023-08-27    45\n",
       "2023-08-28    42\n",
       "2023-04-10    42\n",
       "2023-04-09    28\n",
       "2023-10-22    28\n",
       "              ..\n",
       "2017-07-20     1\n",
       "2017-06-06     1\n",
       "2017-07-29     1\n",
       "2017-05-16     1\n",
       "2023-11-28     1\n",
       "Name: count, Length: 2541, dtype: int64"
      ]
     },
     "execution_count": 277,
     "metadata": {},
     "output_type": "execute_result"
    }
   ],
   "source": [
    "#first_review value_counts\n",
    "df_list_clean['first_review'].value_counts(dropna=False)"
   ]
  },
  {
   "cell_type": "code",
   "execution_count": 278,
   "id": "d7e39234",
   "metadata": {},
   "outputs": [
    {
     "data": {
      "text/plain": [
       "host_is_superhost\n",
       "0.0    6248\n",
       "1.0    1522\n",
       "NaN      47\n",
       "Name: count, dtype: int64"
      ]
     },
     "execution_count": 278,
     "metadata": {},
     "output_type": "execute_result"
    }
   ],
   "source": [
    "#host_is_superhost value_counts\n",
    "df_list_clean['host_is_superhost'].value_counts(dropna=False)"
   ]
  },
  {
   "cell_type": "code",
   "execution_count": 148,
   "id": "9bd1d3c4",
   "metadata": {},
   "outputs": [
    {
     "data": {
      "text/plain": [
       "last_review\n",
       "2023-12-03    202\n",
       "2023-11-26    197\n",
       "2023-10-22    165\n",
       "2023-12-10    152\n",
       "2023-11-19    146\n",
       "             ... \n",
       "2021-10-21      1\n",
       "2018-10-29      1\n",
       "2022-12-20      1\n",
       "2019-12-08      1\n",
       "2023-05-17      1\n",
       "Name: count, Length: 1060, dtype: int64"
      ]
     },
     "execution_count": 148,
     "metadata": {},
     "output_type": "execute_result"
    }
   ],
   "source": [
    "#last_review value_counts\n",
    "df_list_clean['last_review'].value_counts(dropna=False)"
   ]
  },
  {
   "cell_type": "code",
   "execution_count": 279,
   "id": "53c4edc3",
   "metadata": {},
   "outputs": [
    {
     "name": "stdout",
     "output_type": "stream",
     "text": [
      "<class 'pandas.core.frame.DataFrame'>\n",
      "Index: 7817 entries, 0 to 8657\n",
      "Data columns (total 27 columns):\n",
      " #   Column                          Non-Null Count  Dtype         \n",
      "---  ------                          --------------  -----         \n",
      " 0   id                              7817 non-null   int64         \n",
      " 1   name                            7817 non-null   object        \n",
      " 2   host_id                         7817 non-null   int64         \n",
      " 3   neighbourhood                   7817 non-null   object        \n",
      " 4   latitude                        7817 non-null   float64       \n",
      " 5   longitude                       7817 non-null   float64       \n",
      " 6   room_type                       7817 non-null   object        \n",
      " 7   price                           7654 non-null   float64       \n",
      " 8   minimum_nights                  7817 non-null   int64         \n",
      " 9   number_of_reviews               7817 non-null   int64         \n",
      " 10  last_review                     7817 non-null   datetime64[ns]\n",
      " 11  reviews_per_month               7817 non-null   float64       \n",
      " 12  calculated_host_listings_count  7817 non-null   int64         \n",
      " 13  availability_365                7817 non-null   int64         \n",
      " 14  number_of_reviews_ltm           7817 non-null   int64         \n",
      " 15  host_response_rate              5095 non-null   float64       \n",
      " 16  host_since                      7817 non-null   object        \n",
      " 17  host_response_time              7817 non-null   object        \n",
      " 18  property_type                   7817 non-null   object        \n",
      " 19  accommodates                    7817 non-null   int64         \n",
      " 20  first_review                    7817 non-null   datetime64[ns]\n",
      " 21  review_scores_location          7816 non-null   float64       \n",
      " 22  review_scores_communication     7817 non-null   float64       \n",
      " 23  review_scores_rating            7817 non-null   float64       \n",
      " 24  maximum_nights                  7817 non-null   int64         \n",
      " 25  host_is_superhost               7770 non-null   float64       \n",
      " 26  host_has_profile_pic            7817 non-null   int64         \n",
      "dtypes: datetime64[ns](2), float64(9), int64(10), object(6)\n",
      "memory usage: 1.7+ MB\n"
     ]
    }
   ],
   "source": [
    "df_list_clean.info()"
   ]
  },
  {
   "cell_type": "code",
   "execution_count": 282,
   "id": "d07a8c74",
   "metadata": {},
   "outputs": [],
   "source": [
    "rows_drop = df_list_clean.dropna (axis=0)"
   ]
  },
  {
   "cell_type": "code",
   "execution_count": 283,
   "id": "ae4dae2f",
   "metadata": {},
   "outputs": [],
   "source": [
    "rows_drop.reset_index (inplace=True)"
   ]
  },
  {
   "cell_type": "code",
   "execution_count": 284,
   "id": "09ced2ee",
   "metadata": {},
   "outputs": [
    {
     "name": "stdout",
     "output_type": "stream",
     "text": [
      "<class 'pandas.core.frame.DataFrame'>\n",
      "RangeIndex: 5050 entries, 0 to 5049\n",
      "Data columns (total 28 columns):\n",
      " #   Column                          Non-Null Count  Dtype         \n",
      "---  ------                          --------------  -----         \n",
      " 0   index                           5050 non-null   int64         \n",
      " 1   id                              5050 non-null   int64         \n",
      " 2   name                            5050 non-null   object        \n",
      " 3   host_id                         5050 non-null   int64         \n",
      " 4   neighbourhood                   5050 non-null   object        \n",
      " 5   latitude                        5050 non-null   float64       \n",
      " 6   longitude                       5050 non-null   float64       \n",
      " 7   room_type                       5050 non-null   object        \n",
      " 8   price                           5050 non-null   float64       \n",
      " 9   minimum_nights                  5050 non-null   int64         \n",
      " 10  number_of_reviews               5050 non-null   int64         \n",
      " 11  last_review                     5050 non-null   datetime64[ns]\n",
      " 12  reviews_per_month               5050 non-null   float64       \n",
      " 13  calculated_host_listings_count  5050 non-null   int64         \n",
      " 14  availability_365                5050 non-null   int64         \n",
      " 15  number_of_reviews_ltm           5050 non-null   int64         \n",
      " 16  host_response_rate              5050 non-null   float64       \n",
      " 17  host_since                      5050 non-null   object        \n",
      " 18  host_response_time              5050 non-null   object        \n",
      " 19  property_type                   5050 non-null   object        \n",
      " 20  accommodates                    5050 non-null   int64         \n",
      " 21  first_review                    5050 non-null   datetime64[ns]\n",
      " 22  review_scores_location          5050 non-null   float64       \n",
      " 23  review_scores_communication     5050 non-null   float64       \n",
      " 24  review_scores_rating            5050 non-null   float64       \n",
      " 25  maximum_nights                  5050 non-null   int64         \n",
      " 26  host_is_superhost               5050 non-null   float64       \n",
      " 27  host_has_profile_pic            5050 non-null   int64         \n",
      "dtypes: datetime64[ns](2), float64(9), int64(11), object(6)\n",
      "memory usage: 1.1+ MB\n"
     ]
    }
   ],
   "source": [
    "rows_drop.info()"
   ]
  },
  {
   "cell_type": "code",
   "execution_count": 285,
   "id": "bff13f0f",
   "metadata": {},
   "outputs": [
    {
     "data": {
      "text/plain": [
       "index                             0\n",
       "id                                0\n",
       "name                              0\n",
       "host_id                           0\n",
       "neighbourhood                     0\n",
       "latitude                          0\n",
       "longitude                         0\n",
       "room_type                         0\n",
       "price                             0\n",
       "minimum_nights                    0\n",
       "number_of_reviews                 0\n",
       "last_review                       0\n",
       "reviews_per_month                 0\n",
       "calculated_host_listings_count    0\n",
       "availability_365                  0\n",
       "number_of_reviews_ltm             0\n",
       "host_response_rate                0\n",
       "host_since                        0\n",
       "host_response_time                0\n",
       "property_type                     0\n",
       "accommodates                      0\n",
       "first_review                      0\n",
       "review_scores_location            0\n",
       "review_scores_communication       0\n",
       "review_scores_rating              0\n",
       "maximum_nights                    0\n",
       "host_is_superhost                 0\n",
       "host_has_profile_pic              0\n",
       "dtype: int64"
      ]
     },
     "execution_count": 285,
     "metadata": {},
     "output_type": "execute_result"
    }
   ],
   "source": [
    "rows_drop.isnull().sum()"
   ]
  },
  {
   "cell_type": "markdown",
   "id": "82279104",
   "metadata": {},
   "source": [
    "##  Export Data Set as 2023_Amsterdam_Airbnb_Data"
   ]
  },
  {
   "cell_type": "code",
   "execution_count": 286,
   "id": "c60f5451",
   "metadata": {},
   "outputs": [],
   "source": [
    "#exporting cleaned listing file to prepared data folder as a new file 2023_Amsterdam_Airbnb_Data.csv\n",
    "rows_drop.to_csv(os.path.join(path,'Prepared Data', '2023_Amsterdam_Airbnb_Data.csv'), index=False)"
   ]
  },
  {
   "cell_type": "code",
   "execution_count": 287,
   "id": "ebd20832",
   "metadata": {},
   "outputs": [],
   "source": [
    "#exporting cleaned listing file to PKL \n",
    "rows_drop.to_pickle(os.path.join(path,'Prepared Data', '2023_amsterdam_airbnb_data.pkl'))"
   ]
  },
  {
   "cell_type": "code",
   "execution_count": 288,
   "id": "d20eb6de",
   "metadata": {},
   "outputs": [
    {
     "data": {
      "text/plain": [
       "2356"
      ]
     },
     "execution_count": 288,
     "metadata": {},
     "output_type": "execute_result"
    }
   ],
   "source": [
    "#delete df to save space \n",
    "\n",
    "del rows_drop\n",
    "\n",
    "gc.collect()"
   ]
  },
  {
   "cell_type": "code",
   "execution_count": 291,
   "id": "e96727e0",
   "metadata": {},
   "outputs": [
    {
     "data": {
      "text/plain": [
       "963"
      ]
     },
     "execution_count": 291,
     "metadata": {},
     "output_type": "execute_result"
    }
   ],
   "source": [
    "#delete df to save space \n",
    "\n",
    "\n",
    "del df_list_merge\n",
    "del df_nan\n",
    "del df_cal\n",
    "del df_list\n",
    "del df_list_detail\n",
    "\n",
    "gc.collect()"
   ]
  },
  {
   "cell_type": "code",
   "execution_count": null,
   "id": "7c6e06f8",
   "metadata": {},
   "outputs": [],
   "source": []
  }
 ],
 "metadata": {
  "kernelspec": {
   "display_name": "Python 3 (ipykernel)",
   "language": "python",
   "name": "python3"
  },
  "language_info": {
   "codemirror_mode": {
    "name": "ipython",
    "version": 3
   },
   "file_extension": ".py",
   "mimetype": "text/x-python",
   "name": "python",
   "nbconvert_exporter": "python",
   "pygments_lexer": "ipython3",
   "version": "3.11.5"
  }
 },
 "nbformat": 4,
 "nbformat_minor": 5
}
